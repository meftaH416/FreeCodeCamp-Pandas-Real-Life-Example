{
  "nbformat": 4,
  "nbformat_minor": 0,
  "metadata": {
    "colab": {
      "provenance": [],
      "authorship_tag": "ABX9TyNe34CETdZ1l7rOMZNdSCF5",
      "include_colab_link": true
    },
    "kernelspec": {
      "name": "python3",
      "display_name": "Python 3"
    },
    "language_info": {
      "name": "python"
    }
  },
  "cells": [
    {
      "cell_type": "markdown",
      "metadata": {
        "id": "view-in-github",
        "colab_type": "text"
      },
      "source": [
        "<a href=\"https://colab.research.google.com/github/meftaH416/FreeCodeCamp-Pandas-Real-Life-Example/blob/master/8760_hours_sensors_schedule.ipynb\" target=\"_parent\"><img src=\"https://colab.research.google.com/assets/colab-badge.svg\" alt=\"Open In Colab\"/></a>"
      ]
    },
    {
      "cell_type": "code",
      "execution_count": null,
      "metadata": {
        "id": "DAt5vTzwKPQO"
      },
      "outputs": [],
      "source": [
        "import pandas as pd\n",
        "import numpy as np\n",
        "from datetime import datetime, timedelta\n",
        "import calendar\n",
        "import random"
      ]
    },
    {
      "cell_type": "markdown",
      "source": [
        "**Creating 365 days datetime**"
      ],
      "metadata": {
        "id": "wmVq1B3MNchT"
      }
    },
    {
      "cell_type": "code",
      "source": [
        "dates = pd.date_range('2022-01-01', '2022-12-31', freq='D')\n",
        "drange = range(len(dates))\n",
        "#Converting to series for getting weekdays name\n",
        "s = dates.to_series(index=drange)\n",
        "# dayofyear = s.dt.datetime\n",
        "y_day = list(dates)\n",
        "\n",
        "weekdays = s.dt.day_name()\n",
        "w_day = list(weekdays)\n"
      ],
      "metadata": {
        "id": "DDOc0_NoKRcB"
      },
      "execution_count": null,
      "outputs": []
    },
    {
      "cell_type": "code",
      "source": [
        "# day_tuple = list(zip(y_day, w_day))\n",
        "# for date, weekday in day_tuple:\n",
        "#   if date < datetime(2022,1,31):\n",
        "#     if weekday == 'Saturday' or weekday == 'Monday':\n",
        "#       print(weekday)\n",
        "    "
      ],
      "metadata": {
        "id": "AHbtSb6j-mlp"
      },
      "execution_count": null,
      "outputs": []
    },
    {
      "cell_type": "code",
      "source": [
        "day_tuple = list(zip(y_day, w_day))\n",
        "\n",
        "people = []\n",
        "hours_of_day = 24\n",
        "\n",
        "for date, weekday in day_tuple:\n",
        "\n",
        "  if date < datetime(2022,1,17):\n",
        "    if weekday == 'Saturday' or weekday == 'Sunday':\n",
        "      for hr in range(hours_of_day):\n",
        "        people.append(0)\n",
        "    else:\n",
        "      for hr in range(hours_of_day):\n",
        "         if hr>=0 and hr<10:\n",
        "            people.append(0)\n",
        "         elif hr>=10 and hr<17:\n",
        "            people.append(random.randint(0,2))\n",
        "         else:\n",
        "            people.append(0)\n",
        "\n",
        "  elif date >= datetime(2022,1,17) and date < datetime(2022,3,26):\n",
        "    if weekday == 'Saturday' or weekday == 'Sunday':\n",
        "      for hr in range(hours_of_day):\n",
        "        if hr<7:\n",
        "          people.append(0)\n",
        "        elif hr>=7 and hr<16:\n",
        "          people.append(random.randint(0,3))\n",
        "        else:\n",
        "          people.append(random.randint(0,9))    \n",
        "    elif weekday == 'Monday' or weekday == 'Wednesday' or weekday == 'Friday':\n",
        "      for hr in range(hours_of_day):\n",
        "        if hr>=0 and hr<7:\n",
        "            people.append(0)\n",
        "        elif hr>=7 and hr<9:\n",
        "            people.append(random.randint(0,10))\n",
        "        elif hr>=9 and hr<=13:\n",
        "            people.append(random.randint(30,32))\n",
        "        elif hr>13 and hr<=17:\n",
        "          people.append(random.randint(14,16))\n",
        "        else:\n",
        "          people.append(random.randint(0,3))\n",
        "    elif weekday == 'Tuesday':\n",
        "      for hr in range(hours_of_day):\n",
        "         if hr>=0 and hr<7:\n",
        "            people.append(0)\n",
        "         elif hr>=7 and hr<9:\n",
        "            people.append(random.randint(0,2))\n",
        "         elif hr>=9 and hr<=11:\n",
        "            people.append(5)\n",
        "         elif hr>11 and hr<=17:\n",
        "           people.append(random.randint(23,25))\n",
        "         else:\n",
        "           people.append(random.randint(0,3))\n",
        "    elif weekday == 'Thursday':\n",
        "      for hr in range(hours_of_day):\n",
        "         if hr>=0 and hr<7:\n",
        "            people.append(0)\n",
        "         elif hr>=7 and hr<9:\n",
        "            people.append(random.randint(0,5))\n",
        "         elif hr>=9 and hr<=11:\n",
        "            people.append(random.randint(52,55))\n",
        "         elif hr>13 and hr<=17:\n",
        "           people.append(random.randint(23,25))\n",
        "         else:\n",
        "           people.append(random.randint(0,5))\n",
        "\n",
        "  elif date >= datetime(2022,3,26) and date < datetime(2022,4,4):\n",
        "      for hr in range(hours_of_day):\n",
        "          people.append(0)  \n",
        "   \n",
        "  elif date >= datetime(2022,4,4) and date< datetime(2022,5,6):\n",
        "      if weekday == 'Saturday' or weekday == 'Sunday':\n",
        "        for hr in range(hours_of_day):\n",
        "          if hr<7:\n",
        "            people.append(0)\n",
        "          elif hr>=7 and hr<16:\n",
        "            people.append(random.randint(0,3))\n",
        "          else:\n",
        "            people.append(random.randint(0,9))    \n",
        "      elif weekday == 'Monday' or weekday == 'Wednesday' or weekday == 'Friday':\n",
        "        for hr in range(hours_of_day):\n",
        "          if hr>=0 and hr<7:\n",
        "              people.append(0)\n",
        "          elif hr>=7 and hr<9:\n",
        "              people.append(random.randint(0,10))\n",
        "          elif hr>=9 and hr<=13:\n",
        "              people.append(random.randint(30,32))\n",
        "          elif hr>13 and hr<=17:\n",
        "            people.append(random.randint(14,16))\n",
        "          else:\n",
        "            people.append(random.randint(0,3))\n",
        "      elif weekday == 'Tuesday':\n",
        "        for hr in range(hours_of_day):\n",
        "          if hr>=0 and hr<6:\n",
        "              people.append(0)\n",
        "          elif hr>=6 and hr<9:\n",
        "              people.append(random.randint(0,2))\n",
        "          elif hr>=9 and hr<=11:\n",
        "              people.append(5)\n",
        "          elif hr>11 and hr<=17:\n",
        "            people.append(random.randint(23,25))\n",
        "          else:\n",
        "            people.append(random.randint(0,5))\n",
        "      else:\n",
        "        for hr in range(hours_of_day):\n",
        "          if hr>=0 and hr<6:\n",
        "              people.append(0)\n",
        "          elif hr>=6 and hr<9:\n",
        "              people.append(random.randint(0,5))\n",
        "          elif hr>=9 and hr<=11:\n",
        "              people.append(random.randint(50,55))\n",
        "          elif hr>13 and hr<=17:\n",
        "            people.append(random.randint(23,25))\n",
        "          else:\n",
        "            people.append(0)\n",
        "     \n",
        "   "
      ],
      "metadata": {
        "id": "MQYuBanBhpU0"
      },
      "execution_count": null,
      "outputs": []
    },
    {
      "cell_type": "code",
      "source": [
        "len(people)"
      ],
      "metadata": {
        "colab": {
          "base_uri": "https://localhost:8080/"
        },
        "id": "dTAOF616hpOt",
        "outputId": "afa9cf2a-96f6-4091-f406-effcc23ff174"
      },
      "execution_count": null,
      "outputs": [
        {
          "output_type": "execute_result",
          "data": {
            "text/plain": [
              "3000"
            ]
          },
          "metadata": {},
          "execution_count": 19
        }
      ]
    },
    {
      "cell_type": "code",
      "source": [
        "start_date = datetime(2022,1,1)\n",
        "end_date = start_date + timedelta(hours=len(people)-1)\n",
        "hours = pd.date_range(start_date, end_date, freq='H')\n",
        "\n",
        "hrange = range(len(hours))\n",
        "s = hours.to_series(index=hrange)\n",
        "weekdays = s.dt.day_name()\n",
        "len(hrange)"
      ],
      "metadata": {
        "colab": {
          "base_uri": "https://localhost:8080/"
        },
        "id": "c2Q2_KiYN6GF",
        "outputId": "ad21ef90-c593-4dee-9994-094e0b4a5b72"
      },
      "execution_count": null,
      "outputs": [
        {
          "output_type": "execute_result",
          "data": {
            "text/plain": [
              "3000"
            ]
          },
          "metadata": {},
          "execution_count": 27
        }
      ]
    },
    {
      "cell_type": "code",
      "source": [
        "df = pd.DataFrame(data= {'id': hrange,'hour': hours, 'weekday': weekdays, 'people': people})"
      ],
      "metadata": {
        "id": "RsiVH1f8N59I"
      },
      "execution_count": null,
      "outputs": []
    },
    {
      "cell_type": "code",
      "source": [
        "df.to_csv('Sensors_schedule.csv')"
      ],
      "metadata": {
        "id": "Xly4vVZKKUEb"
      },
      "execution_count": null,
      "outputs": []
    },
    {
      "cell_type": "code",
      "source": [],
      "metadata": {
        "id": "upn2q8JqOt_Z"
      },
      "execution_count": null,
      "outputs": []
    }
  ]
}